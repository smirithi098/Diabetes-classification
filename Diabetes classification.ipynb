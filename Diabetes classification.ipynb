{
 "cells": [
  {
   "cell_type": "markdown",
   "metadata": {},
   "source": [
    "### Part A"
   ]
  },
  {
   "cell_type": "code",
   "execution_count": 1,
   "metadata": {},
   "outputs": [],
   "source": [
    "# Import required packages\n",
    "\n",
    "import pandas as pd\n",
    "import numpy as np\n",
    "import seaborn as sb\n",
    "import matplotlib.pyplot as plt"
   ]
  },
  {
   "cell_type": "code",
   "execution_count": 2,
   "metadata": {},
   "outputs": [
    {
     "data": {
      "text/html": [
       "<div>\n",
       "<style scoped>\n",
       "    .dataframe tbody tr th:only-of-type {\n",
       "        vertical-align: middle;\n",
       "    }\n",
       "\n",
       "    .dataframe tbody tr th {\n",
       "        vertical-align: top;\n",
       "    }\n",
       "\n",
       "    .dataframe thead th {\n",
       "        text-align: right;\n",
       "    }\n",
       "</style>\n",
       "<table border=\"1\" class=\"dataframe\">\n",
       "  <thead>\n",
       "    <tr style=\"text-align: right;\">\n",
       "      <th></th>\n",
       "      <th>F1</th>\n",
       "      <th>F2</th>\n",
       "      <th>F3</th>\n",
       "      <th>F4</th>\n",
       "      <th>F5</th>\n",
       "      <th>F6</th>\n",
       "      <th>F7</th>\n",
       "      <th>F8</th>\n",
       "      <th>F9</th>\n",
       "      <th>F10</th>\n",
       "      <th>...</th>\n",
       "      <th>F12</th>\n",
       "      <th>F13</th>\n",
       "      <th>F14</th>\n",
       "      <th>F15</th>\n",
       "      <th>F16</th>\n",
       "      <th>F17</th>\n",
       "      <th>F18</th>\n",
       "      <th>F19</th>\n",
       "      <th>F20</th>\n",
       "      <th>Class</th>\n",
       "    </tr>\n",
       "  </thead>\n",
       "  <tbody>\n",
       "    <tr>\n",
       "      <th>0</th>\n",
       "      <td>3.4009</td>\n",
       "      <td>9.0180</td>\n",
       "      <td>0</td>\n",
       "      <td>2429.040</td>\n",
       "      <td>1.5729</td>\n",
       "      <td>-6901.08</td>\n",
       "      <td>-13.5480</td>\n",
       "      <td>-2204.77</td>\n",
       "      <td>-43.1740</td>\n",
       "      <td>-4.3000</td>\n",
       "      <td>...</td>\n",
       "      <td>-1.96</td>\n",
       "      <td>-7144.9</td>\n",
       "      <td>1</td>\n",
       "      <td>-4.4310</td>\n",
       "      <td>2451.300</td>\n",
       "      <td>12843.744</td>\n",
       "      <td>12.90000</td>\n",
       "      <td>-121.720</td>\n",
       "      <td>NaN</td>\n",
       "      <td>False</td>\n",
       "    </tr>\n",
       "    <tr>\n",
       "      <th>1</th>\n",
       "      <td>3.2476</td>\n",
       "      <td>7.4216</td>\n",
       "      <td>1</td>\n",
       "      <td>3365.160</td>\n",
       "      <td>4.3960</td>\n",
       "      <td>-8939.28</td>\n",
       "      <td>-12.7050</td>\n",
       "      <td>-149.17</td>\n",
       "      <td>-43.0300</td>\n",
       "      <td>-3.8674</td>\n",
       "      <td>...</td>\n",
       "      <td>-1.96</td>\n",
       "      <td>-7022.7</td>\n",
       "      <td>0</td>\n",
       "      <td>-6.3270</td>\n",
       "      <td>2274.330</td>\n",
       "      <td>12726.420</td>\n",
       "      <td>10.35480</td>\n",
       "      <td>-975.600</td>\n",
       "      <td>NaN</td>\n",
       "      <td>True</td>\n",
       "    </tr>\n",
       "    <tr>\n",
       "      <th>2</th>\n",
       "      <td>2.6765</td>\n",
       "      <td>7.3124</td>\n",
       "      <td>0</td>\n",
       "      <td>3616.860</td>\n",
       "      <td>1.8304</td>\n",
       "      <td>-8944.38</td>\n",
       "      <td>-7.2657</td>\n",
       "      <td>-1898.57</td>\n",
       "      <td>-42.7656</td>\n",
       "      <td>-4.0435</td>\n",
       "      <td>...</td>\n",
       "      <td>-1.96</td>\n",
       "      <td>-6071.9</td>\n",
       "      <td>0</td>\n",
       "      <td>-4.3770</td>\n",
       "      <td>2111.937</td>\n",
       "      <td>12842.944</td>\n",
       "      <td>21.25500</td>\n",
       "      <td>-362.220</td>\n",
       "      <td>NaN</td>\n",
       "      <td>False</td>\n",
       "    </tr>\n",
       "    <tr>\n",
       "      <th>3</th>\n",
       "      <td>3.2465</td>\n",
       "      <td>7.4268</td>\n",
       "      <td>0</td>\n",
       "      <td>2263.965</td>\n",
       "      <td>1.5357</td>\n",
       "      <td>-8197.68</td>\n",
       "      <td>-12.9780</td>\n",
       "      <td>-2195.97</td>\n",
       "      <td>-45.5070</td>\n",
       "      <td>-5.1800</td>\n",
       "      <td>...</td>\n",
       "      <td>-0.96</td>\n",
       "      <td>-6703.3</td>\n",
       "      <td>0</td>\n",
       "      <td>-2.3304</td>\n",
       "      <td>4110.300</td>\n",
       "      <td>12812.392</td>\n",
       "      <td>15.83700</td>\n",
       "      <td>-318.680</td>\n",
       "      <td>24.8</td>\n",
       "      <td>True</td>\n",
       "    </tr>\n",
       "    <tr>\n",
       "      <th>4</th>\n",
       "      <td>3.3116</td>\n",
       "      <td>7.6242</td>\n",
       "      <td>0</td>\n",
       "      <td>1669.560</td>\n",
       "      <td>1.5597</td>\n",
       "      <td>-8021.43</td>\n",
       "      <td>-8.9535</td>\n",
       "      <td>-2091.79</td>\n",
       "      <td>-45.5200</td>\n",
       "      <td>-6.4990</td>\n",
       "      <td>...</td>\n",
       "      <td>-0.96</td>\n",
       "      <td>-6999.9</td>\n",
       "      <td>1</td>\n",
       "      <td>-3.0663</td>\n",
       "      <td>3516.600</td>\n",
       "      <td>5396.160</td>\n",
       "      <td>9.69801</td>\n",
       "      <td>-285.372</td>\n",
       "      <td>24.3</td>\n",
       "      <td>True</td>\n",
       "    </tr>\n",
       "  </tbody>\n",
       "</table>\n",
       "<p>5 rows × 21 columns</p>\n",
       "</div>"
      ],
      "text/plain": [
       "       F1      F2  F3        F4      F5       F6       F7       F8       F9  \\\n",
       "0  3.4009  9.0180   0  2429.040  1.5729 -6901.08 -13.5480 -2204.77 -43.1740   \n",
       "1  3.2476  7.4216   1  3365.160  4.3960 -8939.28 -12.7050  -149.17 -43.0300   \n",
       "2  2.6765  7.3124   0  3616.860  1.8304 -8944.38  -7.2657 -1898.57 -42.7656   \n",
       "3  3.2465  7.4268   0  2263.965  1.5357 -8197.68 -12.9780 -2195.97 -45.5070   \n",
       "4  3.3116  7.6242   0  1669.560  1.5597 -8021.43  -8.9535 -2091.79 -45.5200   \n",
       "\n",
       "      F10  ...   F12     F13  F14     F15       F16        F17       F18  \\\n",
       "0 -4.3000  ... -1.96 -7144.9    1 -4.4310  2451.300  12843.744  12.90000   \n",
       "1 -3.8674  ... -1.96 -7022.7    0 -6.3270  2274.330  12726.420  10.35480   \n",
       "2 -4.0435  ... -1.96 -6071.9    0 -4.3770  2111.937  12842.944  21.25500   \n",
       "3 -5.1800  ... -0.96 -6703.3    0 -2.3304  4110.300  12812.392  15.83700   \n",
       "4 -6.4990  ... -0.96 -6999.9    1 -3.0663  3516.600   5396.160   9.69801   \n",
       "\n",
       "       F19   F20  Class  \n",
       "0 -121.720   NaN  False  \n",
       "1 -975.600   NaN   True  \n",
       "2 -362.220   NaN  False  \n",
       "3 -318.680  24.8   True  \n",
       "4 -285.372  24.3   True  \n",
       "\n",
       "[5 rows x 21 columns]"
      ]
     },
     "execution_count": 2,
     "metadata": {},
     "output_type": "execute_result"
    }
   ],
   "source": [
    "# load the dataset\n",
    "data = pd.read_csv(\"CE802_P2_Data.csv\")\n",
    "data.head()"
   ]
  },
  {
   "cell_type": "markdown",
   "metadata": {},
   "source": [
    "### Data cleaning"
   ]
  },
  {
   "cell_type": "code",
   "execution_count": 3,
   "metadata": {},
   "outputs": [
    {
     "data": {
      "text/plain": [
       "Index(['F20'], dtype='object')"
      ]
     },
     "execution_count": 3,
     "metadata": {},
     "output_type": "execute_result"
    }
   ],
   "source": [
    "# check for missing values\n",
    "data.columns[data.isna().any()]"
   ]
  },
  {
   "cell_type": "code",
   "execution_count": 4,
   "metadata": {},
   "outputs": [
    {
     "data": {
      "text/html": [
       "<div>\n",
       "<style scoped>\n",
       "    .dataframe tbody tr th:only-of-type {\n",
       "        vertical-align: middle;\n",
       "    }\n",
       "\n",
       "    .dataframe tbody tr th {\n",
       "        vertical-align: top;\n",
       "    }\n",
       "\n",
       "    .dataframe thead th {\n",
       "        text-align: right;\n",
       "    }\n",
       "</style>\n",
       "<table border=\"1\" class=\"dataframe\">\n",
       "  <thead>\n",
       "    <tr style=\"text-align: right;\">\n",
       "      <th></th>\n",
       "      <th>F1</th>\n",
       "      <th>F2</th>\n",
       "      <th>F3</th>\n",
       "      <th>F4</th>\n",
       "      <th>F5</th>\n",
       "      <th>F6</th>\n",
       "      <th>F7</th>\n",
       "      <th>F8</th>\n",
       "      <th>F9</th>\n",
       "      <th>F10</th>\n",
       "      <th>F11</th>\n",
       "      <th>F12</th>\n",
       "      <th>F13</th>\n",
       "      <th>F14</th>\n",
       "      <th>F15</th>\n",
       "      <th>F16</th>\n",
       "      <th>F17</th>\n",
       "      <th>F18</th>\n",
       "      <th>F19</th>\n",
       "      <th>F20</th>\n",
       "    </tr>\n",
       "  </thead>\n",
       "  <tbody>\n",
       "    <tr>\n",
       "      <th>count</th>\n",
       "      <td>1000.000000</td>\n",
       "      <td>1000.000000</td>\n",
       "      <td>1000.000000</td>\n",
       "      <td>1000.000000</td>\n",
       "      <td>1000.000000</td>\n",
       "      <td>1000.000000</td>\n",
       "      <td>1000.000000</td>\n",
       "      <td>1000.000000</td>\n",
       "      <td>1000.000000</td>\n",
       "      <td>1000.000000</td>\n",
       "      <td>1000.000000</td>\n",
       "      <td>1000.000000</td>\n",
       "      <td>1000.000000</td>\n",
       "      <td>1000.000000</td>\n",
       "      <td>1000.000000</td>\n",
       "      <td>1000.000000</td>\n",
       "      <td>1000.000000</td>\n",
       "      <td>1000.000000</td>\n",
       "      <td>1000.000000</td>\n",
       "      <td>500.000000</td>\n",
       "    </tr>\n",
       "    <tr>\n",
       "      <th>mean</th>\n",
       "      <td>3.484358</td>\n",
       "      <td>8.460027</td>\n",
       "      <td>0.516000</td>\n",
       "      <td>2818.788916</td>\n",
       "      <td>1.753968</td>\n",
       "      <td>-7264.855469</td>\n",
       "      <td>-9.151815</td>\n",
       "      <td>-2081.014585</td>\n",
       "      <td>-52.012299</td>\n",
       "      <td>-4.318608</td>\n",
       "      <td>6.635745</td>\n",
       "      <td>-1.467000</td>\n",
       "      <td>-6635.307898</td>\n",
       "      <td>0.508000</td>\n",
       "      <td>-4.185798</td>\n",
       "      <td>3036.192399</td>\n",
       "      <td>12929.041422</td>\n",
       "      <td>12.632875</td>\n",
       "      <td>-137.867215</td>\n",
       "      <td>21.840200</td>\n",
       "    </tr>\n",
       "    <tr>\n",
       "      <th>std</th>\n",
       "      <td>0.869678</td>\n",
       "      <td>1.706913</td>\n",
       "      <td>0.499994</td>\n",
       "      <td>1587.054314</td>\n",
       "      <td>0.765717</td>\n",
       "      <td>2108.672583</td>\n",
       "      <td>1.819802</td>\n",
       "      <td>511.582397</td>\n",
       "      <td>10.285697</td>\n",
       "      <td>0.901204</td>\n",
       "      <td>1.805525</td>\n",
       "      <td>0.500201</td>\n",
       "      <td>1494.941683</td>\n",
       "      <td>0.500186</td>\n",
       "      <td>2.699756</td>\n",
       "      <td>3111.533532</td>\n",
       "      <td>3376.459608</td>\n",
       "      <td>2.708330</td>\n",
       "      <td>493.077434</td>\n",
       "      <td>2.311671</td>\n",
       "    </tr>\n",
       "    <tr>\n",
       "      <th>min</th>\n",
       "      <td>2.562220</td>\n",
       "      <td>6.662580</td>\n",
       "      <td>0.000000</td>\n",
       "      <td>-6622.740000</td>\n",
       "      <td>1.230002</td>\n",
       "      <td>-18454.980000</td>\n",
       "      <td>-18.252000</td>\n",
       "      <td>-6005.170000</td>\n",
       "      <td>-123.640000</td>\n",
       "      <td>-7.935000</td>\n",
       "      <td>4.724400</td>\n",
       "      <td>-1.960000</td>\n",
       "      <td>-14719.700000</td>\n",
       "      <td>0.000000</td>\n",
       "      <td>-14.466000</td>\n",
       "      <td>-10635.900000</td>\n",
       "      <td>5396.160000</td>\n",
       "      <td>9.666360</td>\n",
       "      <td>-3419.600000</td>\n",
       "      <td>15.120000</td>\n",
       "    </tr>\n",
       "    <tr>\n",
       "      <th>25%</th>\n",
       "      <td>2.833325</td>\n",
       "      <td>7.198000</td>\n",
       "      <td>0.000000</td>\n",
       "      <td>2203.710000</td>\n",
       "      <td>1.278987</td>\n",
       "      <td>-8108.212500</td>\n",
       "      <td>-10.157250</td>\n",
       "      <td>-2215.070000</td>\n",
       "      <td>-54.812500</td>\n",
       "      <td>-4.687000</td>\n",
       "      <td>5.292950</td>\n",
       "      <td>-1.960000</td>\n",
       "      <td>-7266.006500</td>\n",
       "      <td>0.000000</td>\n",
       "      <td>-5.634750</td>\n",
       "      <td>1835.760000</td>\n",
       "      <td>12794.090000</td>\n",
       "      <td>10.552350</td>\n",
       "      <td>-311.682500</td>\n",
       "      <td>20.240000</td>\n",
       "    </tr>\n",
       "    <tr>\n",
       "      <th>50%</th>\n",
       "      <td>3.229050</td>\n",
       "      <td>7.917500</td>\n",
       "      <td>1.000000</td>\n",
       "      <td>2460.795000</td>\n",
       "      <td>1.448400</td>\n",
       "      <td>-7679.910000</td>\n",
       "      <td>-8.737050</td>\n",
       "      <td>-2070.058500</td>\n",
       "      <td>-48.942000</td>\n",
       "      <td>-4.037250</td>\n",
       "      <td>6.067400</td>\n",
       "      <td>-1.960000</td>\n",
       "      <td>-7012.600000</td>\n",
       "      <td>1.000000</td>\n",
       "      <td>-3.314400</td>\n",
       "      <td>2416.500000</td>\n",
       "      <td>12831.722000</td>\n",
       "      <td>11.796750</td>\n",
       "      <td>-245.540000</td>\n",
       "      <td>21.800000</td>\n",
       "    </tr>\n",
       "    <tr>\n",
       "      <th>75%</th>\n",
       "      <td>3.869500</td>\n",
       "      <td>9.190000</td>\n",
       "      <td>1.000000</td>\n",
       "      <td>2926.260000</td>\n",
       "      <td>1.943675</td>\n",
       "      <td>-6984.855000</td>\n",
       "      <td>-7.700400</td>\n",
       "      <td>-1945.470000</td>\n",
       "      <td>-45.052000</td>\n",
       "      <td>-3.641825</td>\n",
       "      <td>7.428500</td>\n",
       "      <td>-0.960000</td>\n",
       "      <td>-6473.600000</td>\n",
       "      <td>1.000000</td>\n",
       "      <td>-2.080725</td>\n",
       "      <td>3376.725000</td>\n",
       "      <td>12870.380000</td>\n",
       "      <td>13.870500</td>\n",
       "      <td>-110.925000</td>\n",
       "      <td>23.390000</td>\n",
       "    </tr>\n",
       "    <tr>\n",
       "      <th>max</th>\n",
       "      <td>7.075000</td>\n",
       "      <td>15.566000</td>\n",
       "      <td>1.000000</td>\n",
       "      <td>19513.260000</td>\n",
       "      <td>7.309000</td>\n",
       "      <td>7180.020000</td>\n",
       "      <td>-6.870168</td>\n",
       "      <td>1398.830000</td>\n",
       "      <td>-41.862328</td>\n",
       "      <td>-3.382990</td>\n",
       "      <td>13.704000</td>\n",
       "      <td>-0.960000</td>\n",
       "      <td>3326.300000</td>\n",
       "      <td>1.000000</td>\n",
       "      <td>-1.264140</td>\n",
       "      <td>26354.100000</td>\n",
       "      <td>118370.160000</td>\n",
       "      <td>23.124000</td>\n",
       "      <td>3042.400000</td>\n",
       "      <td>28.600000</td>\n",
       "    </tr>\n",
       "  </tbody>\n",
       "</table>\n",
       "</div>"
      ],
      "text/plain": [
       "                F1           F2           F3            F4           F5  \\\n",
       "count  1000.000000  1000.000000  1000.000000   1000.000000  1000.000000   \n",
       "mean      3.484358     8.460027     0.516000   2818.788916     1.753968   \n",
       "std       0.869678     1.706913     0.499994   1587.054314     0.765717   \n",
       "min       2.562220     6.662580     0.000000  -6622.740000     1.230002   \n",
       "25%       2.833325     7.198000     0.000000   2203.710000     1.278987   \n",
       "50%       3.229050     7.917500     1.000000   2460.795000     1.448400   \n",
       "75%       3.869500     9.190000     1.000000   2926.260000     1.943675   \n",
       "max       7.075000    15.566000     1.000000  19513.260000     7.309000   \n",
       "\n",
       "                 F6           F7           F8           F9          F10  \\\n",
       "count   1000.000000  1000.000000  1000.000000  1000.000000  1000.000000   \n",
       "mean   -7264.855469    -9.151815 -2081.014585   -52.012299    -4.318608   \n",
       "std     2108.672583     1.819802   511.582397    10.285697     0.901204   \n",
       "min   -18454.980000   -18.252000 -6005.170000  -123.640000    -7.935000   \n",
       "25%    -8108.212500   -10.157250 -2215.070000   -54.812500    -4.687000   \n",
       "50%    -7679.910000    -8.737050 -2070.058500   -48.942000    -4.037250   \n",
       "75%    -6984.855000    -7.700400 -1945.470000   -45.052000    -3.641825   \n",
       "max     7180.020000    -6.870168  1398.830000   -41.862328    -3.382990   \n",
       "\n",
       "               F11          F12           F13          F14          F15  \\\n",
       "count  1000.000000  1000.000000   1000.000000  1000.000000  1000.000000   \n",
       "mean      6.635745    -1.467000  -6635.307898     0.508000    -4.185798   \n",
       "std       1.805525     0.500201   1494.941683     0.500186     2.699756   \n",
       "min       4.724400    -1.960000 -14719.700000     0.000000   -14.466000   \n",
       "25%       5.292950    -1.960000  -7266.006500     0.000000    -5.634750   \n",
       "50%       6.067400    -1.960000  -7012.600000     1.000000    -3.314400   \n",
       "75%       7.428500    -0.960000  -6473.600000     1.000000    -2.080725   \n",
       "max      13.704000    -0.960000   3326.300000     1.000000    -1.264140   \n",
       "\n",
       "                F16            F17          F18          F19         F20  \n",
       "count   1000.000000    1000.000000  1000.000000  1000.000000  500.000000  \n",
       "mean    3036.192399   12929.041422    12.632875  -137.867215   21.840200  \n",
       "std     3111.533532    3376.459608     2.708330   493.077434    2.311671  \n",
       "min   -10635.900000    5396.160000     9.666360 -3419.600000   15.120000  \n",
       "25%     1835.760000   12794.090000    10.552350  -311.682500   20.240000  \n",
       "50%     2416.500000   12831.722000    11.796750  -245.540000   21.800000  \n",
       "75%     3376.725000   12870.380000    13.870500  -110.925000   23.390000  \n",
       "max    26354.100000  118370.160000    23.124000  3042.400000   28.600000  "
      ]
     },
     "execution_count": 4,
     "metadata": {},
     "output_type": "execute_result"
    }
   ],
   "source": [
    "# get the statistical summary of all columns\n",
    "\n",
    "data.describe()"
   ]
  },
  {
   "cell_type": "markdown",
   "metadata": {},
   "source": [
    "From the above table, for column **F20** the mean and median are almost the same ~ **21.8**. Therefore, replacing the NaN values can be done with either."
   ]
  },
  {
   "cell_type": "markdown",
   "metadata": {},
   "source": [
    "#### Replace missing values"
   ]
  },
  {
   "cell_type": "code",
   "execution_count": 5,
   "metadata": {},
   "outputs": [],
   "source": [
    "# Replace missing values with the median value of that column\n",
    "\n",
    "data['F20'] = data['F20'].fillna(data['F20'].median())"
   ]
  },
  {
   "cell_type": "code",
   "execution_count": 6,
   "metadata": {},
   "outputs": [],
   "source": [
    "# split the data into predictors and target variables\n",
    "\n",
    "X = data.iloc[:, :-1].values\n",
    "y = data.iloc[:, -1].values"
   ]
  },
  {
   "cell_type": "markdown",
   "metadata": {},
   "source": [
    "#### Encode target variable classes"
   ]
  },
  {
   "cell_type": "code",
   "execution_count": 7,
   "metadata": {},
   "outputs": [],
   "source": [
    "# Transform the taget variable from string to numeric labels using LabelEncoder\n",
    "\n",
    "# import the library\n",
    "from sklearn.preprocessing import LabelEncoder\n",
    "\n",
    "# create an instance for the class\n",
    "encoder = LabelEncoder()\n",
    "\n",
    "# apply the object to the target variable y\n",
    "y = encoder.fit_transform(y)"
   ]
  },
  {
   "cell_type": "markdown",
   "metadata": {},
   "source": [
    "#### Standardize the feature variables"
   ]
  },
  {
   "cell_type": "code",
   "execution_count": 8,
   "metadata": {},
   "outputs": [],
   "source": [
    "# Standardize the feature variables to have equal scale values\n",
    "\n",
    "# import the library\n",
    "from sklearn.preprocessing import StandardScaler\n",
    "\n",
    "# create an instance for the class\n",
    "scaler = StandardScaler()\n",
    "\n",
    "# apply the object to the features X\n",
    "X = scaler.fit_transform(X)"
   ]
  },
  {
   "cell_type": "markdown",
   "metadata": {},
   "source": [
    "### Split data into train/test set"
   ]
  },
  {
   "cell_type": "code",
   "execution_count": 9,
   "metadata": {},
   "outputs": [],
   "source": [
    "# import library\n",
    "from sklearn.model_selection import StratifiedKFold\n",
    "\n",
    "# create an instance and intialize parameters\n",
    "skf = StratifiedKFold(n_splits=5, shuffle=True, random_state=23)\n",
    "\n",
    "for train_index, test_index in skf.split(X, y):\n",
    "    X_train, X_test = X[train_index], X[test_index]\n",
    "    y_train, y_test = y[train_index], y[test_index]"
   ]
  },
  {
   "cell_type": "markdown",
   "metadata": {},
   "source": [
    "### Hyper-parameter tuning"
   ]
  },
  {
   "cell_type": "code",
   "execution_count": 10,
   "metadata": {},
   "outputs": [],
   "source": [
    "# import the GridSerachCV library\n",
    "from sklearn.model_selection import GridSearchCV\n",
    "\n",
    "# function to get the best parameters for the classifier\n",
    "def perform_param_tuning(classifier, parameters, cv, verbose=1):\n",
    "    cv_result = GridSearchCV(estimator=classifier,\n",
    "                            param_grid=parameters,\n",
    "                            cv=cv,\n",
    "                            verbose=verbose)\n",
    "    \n",
    "    cv_result.fit(X_train, y_train)\n",
    "    \n",
    "    return cv_result.best_params_"
   ]
  },
  {
   "cell_type": "markdown",
   "metadata": {},
   "source": [
    "### 1. Decision Tree Classifier"
   ]
  },
  {
   "cell_type": "markdown",
   "metadata": {},
   "source": [
    "##### Running the GridSearchCV to get the best parameters"
   ]
  },
  {
   "cell_type": "code",
   "execution_count": 11,
   "metadata": {},
   "outputs": [
    {
     "name": "stdout",
     "output_type": "stream",
     "text": [
      "Fitting 5 folds for each of 36 candidates, totalling 180 fits\n",
      "{'criterion': 'entropy', 'max_depth': 8, 'max_features': None, 'splitter': 'best'}\n"
     ]
    }
   ],
   "source": [
    "# import the decision tree classifier\n",
    "from sklearn.tree import DecisionTreeClassifier\n",
    "\n",
    "# create object for the classifier\n",
    "decision_tree_classifier = DecisionTreeClassifier(random_state=345)\n",
    "\n",
    "# define the parameters to optimize\n",
    "params = {\n",
    "    'criterion' : ['gini', 'entropy'],\n",
    "    'splitter' : ['best', 'random'],\n",
    "    'max_features' : [None, 'sqrt', 'log2'],\n",
    "    'max_depth' : [8, 10, 12]\n",
    "}\n",
    "\n",
    "# call the hyper-tuning function to get the best parameters for the classifier\n",
    "res_params = perform_param_tuning(classifier=decision_tree_classifier, parameters=params, cv=5)\n",
    "\n",
    "# display the best chosen parameters\n",
    "print(res_params)"
   ]
  },
  {
   "cell_type": "markdown",
   "metadata": {},
   "source": [
    "##### Fitting the DecisionTreeClasifier with the best chosen parameters"
   ]
  },
  {
   "cell_type": "code",
   "execution_count": 12,
   "metadata": {},
   "outputs": [],
   "source": [
    "# create an instance of the classifier using the best parameters\n",
    "final_dt_clf = DecisionTreeClassifier(criterion=res_params['criterion'],\n",
    "                                     splitter=res_params['splitter'],\n",
    "                                     max_depth=res_params['max_depth'],\n",
    "                                     random_state=897)\n",
    "\n",
    "# fit the model to training data\n",
    "final_dt_clf.fit(X_train, y_train)\n",
    "\n",
    "# Predict the outcome of the test set data\n",
    "y_predict = final_dt_clf.predict(X_test)"
   ]
  },
  {
   "cell_type": "markdown",
   "metadata": {},
   "source": [
    "##### Evaluating the performance of the model on test data"
   ]
  },
  {
   "cell_type": "code",
   "execution_count": 13,
   "metadata": {},
   "outputs": [
    {
     "name": "stdout",
     "output_type": "stream",
     "text": [
      "Accuracy score of Decision Tree model: 0.89\n",
      "Classification report of Decision Tree model:\n",
      "               precision    recall  f1-score   support\n",
      "\n",
      "           0       0.86      0.93      0.89        99\n",
      "           1       0.92      0.85      0.89       101\n",
      "\n",
      "    accuracy                           0.89       200\n",
      "   macro avg       0.89      0.89      0.89       200\n",
      "weighted avg       0.89      0.89      0.89       200\n",
      "\n"
     ]
    },
    {
     "data": {
      "text/plain": [
       "<sklearn.metrics._plot.confusion_matrix.ConfusionMatrixDisplay at 0x268357a6c40>"
      ]
     },
     "execution_count": 13,
     "metadata": {},
     "output_type": "execute_result"
    },
    {
     "data": {
      "image/png": "[encoded data removed]",
      "text/plain": [
       "<Figure size 640x480 with 2 Axes>"
      ]
     },
     "metadata": {},
     "output_type": "display_data"
    }
   ],
   "source": [
    "from sklearn.metrics import accuracy_score, confusion_matrix, classification_report, ConfusionMatrixDisplay\n",
    "\n",
    "# Evaluate the performance of the decision tree model\n",
    "print(f\"Accuracy score of Decision Tree model: {accuracy_score(y_test, y_predict)}\")\n",
    "print(f\"Classification report of Decision Tree model:\\n {classification_report(y_test, y_predict)}\")\n",
    "\n",
    "# plot the confusion matrix\n",
    "ConfusionMatrixDisplay.from_predictions(y_test, y_predict)"
   ]
  },
  {
   "cell_type": "markdown",
   "metadata": {},
   "source": [
    "### 2. Logistic Regression"
   ]
  },
  {
   "cell_type": "markdown",
   "metadata": {},
   "source": [
    "##### Running the GridSearchCV to get the best parameters"
   ]
  },
  {
   "cell_type": "code",
   "execution_count": 14,
   "metadata": {},
   "outputs": [
    {
     "name": "stdout",
     "output_type": "stream",
     "text": [
      "Fitting 10 folds for each of 4 candidates, totalling 40 fits\n",
      "{'penalty': 'l1', 'solver': 'saga'}\n"
     ]
    }
   ],
   "source": [
    "# import the logistic regression classifier\n",
    "from sklearn.linear_model import LogisticRegression\n",
    "import warnings\n",
    "\n",
    "# hide the warnings generated by Grid search CV\n",
    "warnings.filterwarnings('ignore')\n",
    "\n",
    "# create object for the classifier\n",
    "logis_reg_classifier = LogisticRegression(random_state=666)\n",
    "\n",
    "# define the parameters to optimize\n",
    "params = {\n",
    "    'penalty': ['l1', 'l2'],\n",
    "    'solver': ['liblinear', 'saga']\n",
    "}\n",
    "\n",
    "# call the hyper-tuning function to get the best parameters for the classifier\n",
    "res_params = perform_param_tuning(classifier=logis_reg_classifier, parameters=params, cv=10)\n",
    "\n",
    "# display the best chosen parameters\n",
    "print(res_params)"
   ]
  },
  {
   "cell_type": "markdown",
   "metadata": {},
   "source": [
    "##### Fitting the LogisticRegressionClasifier with the best chosen parameters"
   ]
  },
  {
   "cell_type": "code",
   "execution_count": 15,
   "metadata": {},
   "outputs": [],
   "source": [
    "# create an instance of the classifier using the best parameters\n",
    "final_lr_clf = LogisticRegression(penalty=res_params['penalty'],\n",
    "                                 solver=res_params['solver'],\n",
    "                                 random_state=657)\n",
    "\n",
    "# fit the model to training data\n",
    "final_lr_clf.fit(X_train, y_train)\n",
    "\n",
    "# Predict the outcome of the test set data\n",
    "y_predict = final_lr_clf.predict(X_test)"
   ]
  },
  {
   "cell_type": "markdown",
   "metadata": {},
   "source": [
    "##### Evaluating the performance of the model on test data"
   ]
  },
  {
   "cell_type": "code",
   "execution_count": 16,
   "metadata": {},
   "outputs": [
    {
     "name": "stdout",
     "output_type": "stream",
     "text": [
      "Accuracy score of Logistic regression model: 0.78\n",
      "Classification report of Logistic regression model:\n",
      "               precision    recall  f1-score   support\n",
      "\n",
      "           0       0.80      0.74      0.77        99\n",
      "           1       0.76      0.82      0.79       101\n",
      "\n",
      "    accuracy                           0.78       200\n",
      "   macro avg       0.78      0.78      0.78       200\n",
      "weighted avg       0.78      0.78      0.78       200\n",
      "\n"
     ]
    },
    {
     "data": {
      "text/plain": [
       "<sklearn.metrics._plot.confusion_matrix.ConfusionMatrixDisplay at 0x2683569e580>"
      ]
     },
     "execution_count": 16,
     "metadata": {},
     "output_type": "execute_result"
    },
    {
     "data": {
      "image/png": "[encoded data removed]",
      "text/plain": [
       "<Figure size 640x480 with 2 Axes>"
      ]
     },
     "metadata": {},
     "output_type": "display_data"
    }
   ],
   "source": [
    "# Evaluate the performance of the logistic regression model\n",
    "print(f\"Accuracy score of Logistic regression model: {accuracy_score(y_test, y_predict)}\")\n",
    "print(f\"Classification report of Logistic regression model:\\n {classification_report(y_test, y_predict)}\")\n",
    "\n",
    "# plot the confusion matrix\n",
    "ConfusionMatrixDisplay.from_predictions(y_test, y_predict)"
   ]
  },
  {
   "cell_type": "markdown",
   "metadata": {},
   "source": [
    "### 3. Support Vector Machine (SVC)"
   ]
  },
  {
   "cell_type": "markdown",
   "metadata": {},
   "source": [
    "##### Running the GridSearchCV to get the best parameters"
   ]
  },
  {
   "cell_type": "code",
   "execution_count": 17,
   "metadata": {},
   "outputs": [
    {
     "name": "stdout",
     "output_type": "stream",
     "text": [
      "Fitting 10 folds for each of 48 candidates, totalling 480 fits\n",
      "{'C': 1000, 'gamma': 0.01, 'kernel': 'rbf'}\n"
     ]
    }
   ],
   "source": [
    "# import the svm classifier\n",
    "from sklearn.svm import SVC\n",
    "\n",
    "# create object for the classifier\n",
    "svc_classifier = SVC(random_state=900)\n",
    "\n",
    "# define the parameters to optimize\n",
    "params = {'C': [1, 10, 100, 1000],\n",
    "           'gamma': [0.1, 0.01, 0.001, 0.0001],\n",
    "           'kernel': ['rbf', 'sigmoid', 'poly']\n",
    "         }\n",
    "    \n",
    "\n",
    "# call the hyper-tuning function to get the best parameters for the classifier\n",
    "res_params = perform_param_tuning(classifier=svc_classifier, parameters=params, cv=10)\n",
    "\n",
    "# display the best chosen parameters\n",
    "print(res_params)"
   ]
  },
  {
   "cell_type": "markdown",
   "metadata": {},
   "source": [
    "##### Fitting the SVCClasifier with the best chosen parameters"
   ]
  },
  {
   "cell_type": "code",
   "execution_count": 18,
   "metadata": {},
   "outputs": [],
   "source": [
    "# create an instance of the classifier using the best parameters\n",
    "final_svc_clf = SVC(C=res_params['C'],\n",
    "                   gamma=res_params['gamma'],\n",
    "                   kernel=res_params['kernel'],\n",
    "                   probability=True)\n",
    "\n",
    "# fit the model to training data\n",
    "final_svc_clf.fit(X_train, y_train)\n",
    "\n",
    "# Predict the outcome of the test set data\n",
    "y_predict = final_svc_clf.predict(X_test)"
   ]
  },
  {
   "cell_type": "markdown",
   "metadata": {},
   "source": [
    "##### Evaluating the performance of the model on test data"
   ]
  },
  {
   "cell_type": "code",
   "execution_count": 19,
   "metadata": {},
   "outputs": [
    {
     "name": "stdout",
     "output_type": "stream",
     "text": [
      "Accuracy score of SVC model: 0.795\n",
      "Classification report of SVC model:\n",
      "               precision    recall  f1-score   support\n",
      "\n",
      "           0       0.80      0.78      0.79        99\n",
      "           1       0.79      0.81      0.80       101\n",
      "\n",
      "    accuracy                           0.80       200\n",
      "   macro avg       0.80      0.79      0.79       200\n",
      "weighted avg       0.80      0.80      0.79       200\n",
      "\n"
     ]
    },
    {
     "data": {
      "text/plain": [
       "<sklearn.metrics._plot.confusion_matrix.ConfusionMatrixDisplay at 0x2687710ceb0>"
      ]
     },
     "execution_count": 19,
     "metadata": {},
     "output_type": "execute_result"
    },
    {
     "data": {
      "image/png": "[encoded data removed]",
      "text/plain": [
       "<Figure size 640x480 with 2 Axes>"
      ]
     },
     "metadata": {},
     "output_type": "display_data"
    }
   ],
   "source": [
    "# Evaluate the performance of the SVC model\n",
    "print(f\"Accuracy score of SVC model: {accuracy_score(y_test, y_predict)}\")\n",
    "print(f\"Classification report of SVC model:\\n {classification_report(y_test, y_predict)}\")\n",
    "\n",
    "# plot the confusion matrix\n",
    "ConfusionMatrixDisplay.from_predictions(y_test, y_predict)"
   ]
  },
  {
   "cell_type": "markdown",
   "metadata": {},
   "source": [
    "### 4. Gradient Boosting Classifier"
   ]
  },
  {
   "cell_type": "markdown",
   "metadata": {},
   "source": [
    "##### Running the GridSearchCV to get the best parameters"
   ]
  },
  {
   "cell_type": "code",
   "execution_count": 20,
   "metadata": {},
   "outputs": [
    {
     "name": "stdout",
     "output_type": "stream",
     "text": [
      "Fitting 5 folds for each of 24 candidates, totalling 120 fits\n",
      "{'learning_rate': 0.01, 'max_depth': 10, 'max_features': 'sqrt'}\n"
     ]
    }
   ],
   "source": [
    "# import the gradient boost classifier\n",
    "from sklearn.ensemble import GradientBoostingClassifier\n",
    "\n",
    "# create object for the classifier\n",
    "gb_classifier = GradientBoostingClassifier(random_state=789)\n",
    "\n",
    "# define the parameters to optimize\n",
    "params = {\n",
    "    'learning_rate': [0.01, 0.05, 0.1, 0.5],\n",
    "    'max_features': ['sqrt', 'log2'],\n",
    "    'max_depth': [8, 10, 12]\n",
    "}\n",
    "\n",
    "# call the hyper-tuning function to get the best parameters for the classifier\n",
    "res_params = perform_param_tuning(classifier=gb_classifier, parameters=params, cv=5)\n",
    "\n",
    "# display the best chosen parameters\n",
    "print(res_params)"
   ]
  },
  {
   "cell_type": "markdown",
   "metadata": {},
   "source": [
    "##### Fitting the GradientBoostClasifier with the best chosen parameters"
   ]
  },
  {
   "cell_type": "code",
   "execution_count": 21,
   "metadata": {},
   "outputs": [],
   "source": [
    "# create an instance of the classifier using the best parameters\n",
    "final_gb_clf = GradientBoostingClassifier(learning_rate=res_params['learning_rate'],\n",
    "                                         max_depth=res_params['max_depth'],\n",
    "                                         max_features=res_params['max_features'])\n",
    "\n",
    "# fit the model to training data\n",
    "final_gb_clf.fit(X_train, y_train)\n",
    "\n",
    "# Predict the outcome of the test set data\n",
    "y_predict = final_gb_clf.predict(X_test)"
   ]
  },
  {
   "cell_type": "markdown",
   "metadata": {},
   "source": [
    "##### Evaluating the performance of the model on test data"
   ]
  },
  {
   "cell_type": "code",
   "execution_count": 22,
   "metadata": {},
   "outputs": [
    {
     "name": "stdout",
     "output_type": "stream",
     "text": [
      "Accuracy score of Gradient Boosting model: 0.895\n",
      "Classification report of Gradient Boosting model:\n",
      "               precision    recall  f1-score   support\n",
      "\n",
      "           0       0.88      0.91      0.90        99\n",
      "           1       0.91      0.88      0.89       101\n",
      "\n",
      "    accuracy                           0.90       200\n",
      "   macro avg       0.90      0.90      0.89       200\n",
      "weighted avg       0.90      0.90      0.89       200\n",
      "\n"
     ]
    },
    {
     "data": {
      "text/plain": [
       "<sklearn.metrics._plot.confusion_matrix.ConfusionMatrixDisplay at 0x2687716dcd0>"
      ]
     },
     "execution_count": 22,
     "metadata": {},
     "output_type": "execute_result"
    },
    {
     "data": {
      "image/png": "[encoded data removed]",
      "text/plain": [
       "<Figure size 640x480 with 2 Axes>"
      ]
     },
     "metadata": {},
     "output_type": "display_data"
    }
   ],
   "source": [
    "# Evaluate the performance of the SVC model\n",
    "print(f\"Accuracy score of Gradient Boosting model: {accuracy_score(y_test, y_predict)}\")\n",
    "print(f\"Classification report of Gradient Boosting model:\\n {classification_report(y_test, y_predict)}\")\n",
    "\n",
    "# plot the confusion matrix\n",
    "ConfusionMatrixDisplay.from_predictions(y_test, y_predict)"
   ]
  },
  {
   "cell_type": "code",
   "execution_count": 23,
   "metadata": {},
   "outputs": [
    {
     "data": {
      "text/plain": [
       "<matplotlib.legend.Legend at 0x2687a43d2e0>"
      ]
     },
     "execution_count": 23,
     "metadata": {},
     "output_type": "execute_result"
    },
    {
     "data": {
      "image/png": "[encoded data removed]",
      "text/plain": [
       "<Figure size 640x480 with 1 Axes>"
      ]
     },
     "metadata": {},
     "output_type": "display_data"
    }
   ],
   "source": [
    "# plot the ROC curve for all 4 classifiers\n",
    "plt.figure(0).clf()\n",
    "\n",
    "# import the metric libraries\n",
    "from sklearn.metrics import roc_curve, roc_auc_score\n",
    "\n",
    "# Decision Tree\n",
    "y_pred_dt = final_dt_clf.predict_proba(X_test)[:,1]\n",
    "fpr, tpr, thresholds = roc_curve(y_test, y_pred_dt)\n",
    "auc_dt = round(roc_auc_score(y_test, y_pred_dt), 3)\n",
    "\n",
    "plt.plot(fpr, tpr, label=\"Decision trees, AUC score: \"+ str(auc_dt))\n",
    "\n",
    "# Logistic regression\n",
    "y_pred_lr = final_lr_clf.predict_proba(X_test)[:,1]\n",
    "fpr, tpr, thresholds = roc_curve(y_test, y_pred_lr)\n",
    "auc_lr = round(roc_auc_score(y_test, y_pred_lr), 3)\n",
    "\n",
    "plt.plot(fpr, tpr, label=\"Logistic regression, AUC score: \"+ str(auc_lr))\n",
    "\n",
    "# Support vector machine\n",
    "y_pred_svc = final_svc_clf.predict_proba(X_test)[:,1]\n",
    "fpr, tpr, thresholds = roc_curve(y_test, y_pred_lr)\n",
    "auc_svc = round(roc_auc_score(y_test, y_pred_svc), 3)\n",
    "\n",
    "plt.plot(fpr, tpr, label=\"Support vector machine, AUC score: \"+ str(auc_svc))\n",
    "\n",
    "# Gradient boosting\n",
    "y_pred_gb = final_gb_clf.predict_proba(X_test)[:,1]\n",
    "fpr, tpr, thresholds = roc_curve(y_test, y_pred_gb)\n",
    "auc_gb = round(roc_auc_score(y_test, y_pred_gb), 3)\n",
    "\n",
    "plt.plot(fpr, tpr, label=\"Gradient boosting, AUC score: \"+ str(auc_gb))\n",
    "\n",
    "plt.legend(loc = \"lower right\")"
   ]
  }
 ],
 "metadata": {
  "kernelspec": {
   "display_name": "Python 3 (ipykernel)",
   "language": "python",
   "name": "python3"
  },
  "language_info": {
   "codemirror_mode": {
    "name": "ipython",
    "version": 3
   },
   "file_extension": ".py",
   "mimetype": "text/x-python",
   "name": "python",
   "nbconvert_exporter": "python",
   "pygments_lexer": "ipython3",
   "version": "3.9.13"
  }
 },
 "nbformat": 4,
 "nbformat_minor": 4
}
